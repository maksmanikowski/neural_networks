{
  "cells": [
    {
      "cell_type": "markdown",
      "metadata": {
        "id": "view-in-github",
        "colab_type": "text"
      },
      "source": [
        "<a href=\"https://colab.research.google.com/github/maksmanikowski/neural_networks/blob/main/dl01_perceptron.ipynb\" target=\"_parent\"><img src=\"https://colab.research.google.com/assets/colab-badge.svg\" alt=\"Open In Colab\"/></a>"
      ]
    },
    {
      "cell_type": "markdown",
      "metadata": {
        "id": "Nu2uN8Uk2FqF"
      },
      "source": [
        "# Deep Learning\n",
        "<table align=\"left\">\n",
        "  <td>\n",
        "    <a href=\"https://colab.research.google.com/github/marcinsawinski/UEP_KIE_DL_CODE/blob/main/dl01_perceptron.ipynb\" target=\"_parent\"><img src=\"https://colab.research.google.com/assets/colab-badge.svg\" alt=\"Open In Colab\"/></a>\n",
        "  </td>\n",
        "</table>"
      ]
    },
    {
      "cell_type": "markdown",
      "metadata": {
        "id": "XHPhXGdT2FqK"
      },
      "source": [
        "# Excercise 1: Perceptron\n",
        "- define _step function_ that takes value (z) and returns \n",
        "Heaviside step function\\\n",
        "$\n",
        "Heaviside(z) =\n",
        "\\begin{cases}\n",
        "0\\ \\text{if}\\ z<0\\\\\n",
        "1\\ \\text{if}\\ z \\ge 0\n",
        "\\end{cases}\n",
        "$\n",
        "- define _Perceptron_ function that takes:\n",
        "    - data: numpy array of shape (m,n)\n",
        "    - labels: numpy array of shape (m,1)\n",
        "    - lr: learning rate ($\\eta$)\n",
        "    - e: number of epochs\n",
        "- add bias term (column with values equal to 1)\n",
        "- initialize weights with zeros\n",
        "- loop through epochs\n",
        "    - loop through instances\n",
        "        - compute output($\\hat{y}$) as $Heaviside(z)$, where $z = x^T w$\\\n",
        "        NOTE: rows of X contain transposed data so use np.dot(x[i], w)\n",
        "        - calculate new weights $w_{i,j}^{(next\\,step)} = w_{i,j}+\\eta(y_j-\\hat y_j)x_i$\n",
        "- return trained weights\n",
        "- draw decision boundary\n",
        "        \n",
        "\n"
      ]
    },
    {
      "cell_type": "code",
      "execution_count": 26,
      "metadata": {
        "id": "76cV5U3X2FqM",
        "colab": {
          "base_uri": "https://localhost:8080/"
        },
        "outputId": "5f317f06-41ca-4c76-c353-e116446055dc"
      },
      "outputs": [
        {
          "output_type": "stream",
          "name": "stdout",
          "text": [
            "[[ 0.5 -0.1]\n",
            " [ 0.6  1.5]\n",
            " [-0.2 -0.2]\n",
            " [ 1.6  0.8]\n",
            " [-0.5  0.5]]\n",
            "[[-5.4  3.6]\n",
            " [-4.3  3.2]\n",
            " [-4.2  4.4]\n",
            " [-2.1  4.2]\n",
            " [-3.7  3.9]]\n"
          ]
        },
        {
          "output_type": "execute_result",
          "data": {
            "text/plain": [
              "array([[-4.4,  4.9],\n",
              "       [-3.8,  2.8],\n",
              "       [-3.8,  4.4],\n",
              "       [-4.9,  4.2],\n",
              "       [-3.9,  2.9]])"
            ]
          },
          "metadata": {},
          "execution_count": 26
        }
      ],
      "source": [
        "import matplotlib.pyplot as plt\n",
        "import numpy as np\n",
        "class_size = 50\n",
        "np.random.seed(42)\n",
        "# Generate data points\n",
        "X1 = np.random.normal(0,1,(class_size,2)).round(1)\n",
        "print(X1[:5])\n",
        "X2 = np.random.normal(0,1,(class_size,2)).round(1)+np.random.randint(-5,5, (1,2))\n",
        "print(X2[:5])\n",
        "X_train = np.concatenate((X1, X2)) # size (100, 2)\n",
        "X_train[-5:]"
      ]
    },
    {
      "cell_type": "code",
      "source": [
        "X_train.shape"
      ],
      "metadata": {
        "colab": {
          "base_uri": "https://localhost:8080/"
        },
        "id": "wM9frdGjKd5I",
        "outputId": "7229b404-b685-44dd-88f9-d2097725bf73"
      },
      "execution_count": 27,
      "outputs": [
        {
          "output_type": "execute_result",
          "data": {
            "text/plain": [
              "(100, 2)"
            ]
          },
          "metadata": {},
          "execution_count": 27
        }
      ]
    },
    {
      "cell_type": "code",
      "source": [
        "# Generate labels\n",
        "y_train = np.concatenate((np.zeros(class_size),np.ones(class_size))) # len=100\n",
        "y_train"
      ],
      "metadata": {
        "colab": {
          "base_uri": "https://localhost:8080/"
        },
        "id": "ID8QiOMJJRXq",
        "outputId": "ec656907-db94-4349-fd99-3a4e4f298002"
      },
      "execution_count": 28,
      "outputs": [
        {
          "output_type": "execute_result",
          "data": {
            "text/plain": [
              "array([0., 0., 0., 0., 0., 0., 0., 0., 0., 0., 0., 0., 0., 0., 0., 0., 0.,\n",
              "       0., 0., 0., 0., 0., 0., 0., 0., 0., 0., 0., 0., 0., 0., 0., 0., 0.,\n",
              "       0., 0., 0., 0., 0., 0., 0., 0., 0., 0., 0., 0., 0., 0., 0., 0., 1.,\n",
              "       1., 1., 1., 1., 1., 1., 1., 1., 1., 1., 1., 1., 1., 1., 1., 1., 1.,\n",
              "       1., 1., 1., 1., 1., 1., 1., 1., 1., 1., 1., 1., 1., 1., 1., 1., 1.,\n",
              "       1., 1., 1., 1., 1., 1., 1., 1., 1., 1., 1., 1., 1., 1., 1.])"
            ]
          },
          "metadata": {},
          "execution_count": 28
        }
      ]
    },
    {
      "cell_type": "code",
      "source": [
        "#plot data points\n",
        "def plot_data(X,y):\n",
        "    # plt.scatter(X[:,0],X[:,1],c=y, alpha=0.6)\n",
        "    plt.plot(X[:,0][y==0],X[:,1][y==0], 'r.',alpha=0.5)\n",
        "    plt.plot(X[:,0][y==1],X[:,1][y==1], 'b.',alpha=0.5)\n",
        "\n",
        "plot_data(X_train,y_train)"
      ],
      "metadata": {
        "colab": {
          "base_uri": "https://localhost:8080/",
          "height": 430
        },
        "id": "cLZHEYZmKKCx",
        "outputId": "520e2d70-af20-4e0f-be2e-3e5c26596b13"
      },
      "execution_count": 29,
      "outputs": [
        {
          "output_type": "display_data",
          "data": {
            "text/plain": [
              "<Figure size 640x480 with 1 Axes>"
            ],
            "image/png": "[encoded data removed]"
          },
          "metadata": {}
        }
      ]
    },
    {
      "cell_type": "code",
      "source": [
        "# plot (dummy) decision boundary\n",
        "def plot_decision_boundary(X,w, a=1):\n",
        "    x1 = np.linspace(min(X[:,0]),max(X[:,0]),10)\n",
        "    m = -w[1]/w[2]\n",
        "    c = -w[0]/w[2]\n",
        "    x2 = m*x1+c\n",
        "    plt.plot(x1,x2, c='k', alpha=a)\n",
        "    plt.ylim(min(X[:,1]),max(X[:,1]))\n",
        "\n",
        "# Dummy weights\n",
        "w_dummy = [1,2,3]\n",
        "\n",
        "plot_data(X_train,y_train)\n",
        "plot_decision_boundary(X_train, w_dummy)"
      ],
      "metadata": {
        "colab": {
          "base_uri": "https://localhost:8080/",
          "height": 430
        },
        "id": "T-UC6ia6JIQD",
        "outputId": "cb3edcdb-12f5-4e9b-bd2a-035a28862f0c"
      },
      "execution_count": 30,
      "outputs": [
        {
          "output_type": "display_data",
          "data": {
            "text/plain": [
              "<Figure size 640x480 with 1 Axes>"
            ],
            "image/png": "[encoded data removed]"
          },
          "metadata": {}
        }
      ]
    },
    {
      "cell_type": "code",
      "source": [
        "np.random.seed(42)\n",
        "weights = np.random.normal(0, 1, 3)\n",
        "bias = 1\n",
        "weights"
      ],
      "metadata": {
        "colab": {
          "base_uri": "https://localhost:8080/"
        },
        "id": "vh1BZtgYIyC4",
        "outputId": "46afb7eb-2deb-4291-fb7c-1c18061f4b2d"
      },
      "execution_count": 31,
      "outputs": [
        {
          "output_type": "execute_result",
          "data": {
            "text/plain": [
              "array([ 0.49671415, -0.1382643 ,  0.64768854])"
            ]
          },
          "metadata": {},
          "execution_count": 31
        }
      ]
    },
    {
      "cell_type": "code",
      "source": [
        "weights[0] * bias + weights[1] * X_train[0, 0] + weights[2] * X_train[0, 1]"
      ],
      "metadata": {
        "colab": {
          "base_uri": "https://localhost:8080/"
        },
        "id": "GAylUhdiMAg4",
        "outputId": "449cc86c-a29c-4c11-e8cc-0ed57ccc5cd4"
      },
      "execution_count": 32,
      "outputs": [
        {
          "output_type": "execute_result",
          "data": {
            "text/plain": [
              "0.3628131486155711"
            ]
          },
          "metadata": {},
          "execution_count": 32
        }
      ]
    },
    {
      "cell_type": "code",
      "source": [
        "1 * weights[0] + np.dot(X_train[0], weights[1:])"
      ],
      "metadata": {
        "colab": {
          "base_uri": "https://localhost:8080/"
        },
        "id": "pTXY-lSIL6AY",
        "outputId": "6d12ed68-bfe1-47bc-eb11-886f43fb8fb0"
      },
      "execution_count": 33,
      "outputs": [
        {
          "output_type": "execute_result",
          "data": {
            "text/plain": [
              "0.3628131486155711"
            ]
          },
          "metadata": {},
          "execution_count": 33
        }
      ]
    },
    {
      "cell_type": "code",
      "source": [
        "def heaviside(z):\n",
        "    if z >= 0:\n",
        "        return 1\n",
        "    else:\n",
        "        return 0"
      ],
      "metadata": {
        "id": "PhAdFTX_NXP4"
      },
      "execution_count": 34,
      "outputs": []
    },
    {
      "cell_type": "code",
      "source": [
        "weights = np.array([ 0.49671415, -0.1382643 ,  0.64768854])\n",
        "\n",
        "for i in range(0, 5): # for each example (0 to 99) # X_train.shape[0]\n",
        "    print(f'Feature vector is {X_train[i]} and the label {y_train[i]}')\n",
        "    # make prediction\n",
        "    z = np.dot(X_train[i], weights[1:]) + weights[0] * bias\n",
        "    pred = heaviside(z)\n",
        "    print(f'Dot product = {z:.2f}, so the prediction is = {pred:.1f}')\n",
        "    # update weights\n",
        "    print(f'Previous bias weight was {weights[0]}')\n",
        "    print(f'Previous feature weights were {weights[1:]}\\n LEARNING . . .')\n",
        "    weights[0] += 0.1 * (y_train[i] - pred)\n",
        "    weights[1:] += 0.1 * (y_train[i] - pred) * X_train[i]\n",
        "    print(f'Current bias weight is {weights[0]}')\n",
        "    print(f'Current feature weights are {weights[1:]}\\n END OF ITERATION\\n')"
      ],
      "metadata": {
        "colab": {
          "base_uri": "https://localhost:8080/"
        },
        "id": "xTAdhHpuLcKz",
        "outputId": "b3d6de3c-05e7-452b-8b0f-74dbe4e60e7d"
      },
      "execution_count": 49,
      "outputs": [
        {
          "output_type": "stream",
          "name": "stdout",
          "text": [
            "Feature vector is [ 0.5 -0.1] and the label 0.0\n",
            "Dot product = 0.36, so the prediction is = 1.0\n",
            "Previous bias weight was 0.49671415\n",
            "Previous feature weights were [-0.1382643   0.64768854]\n",
            " LEARNING . . .\n",
            "Current bias weight is 0.39671415\n",
            "Current feature weights are [-0.1882643   0.65768854]\n",
            " END OF ITERATION\n",
            "\n",
            "Feature vector is [0.6 1.5] and the label 0.0\n",
            "Dot product = 1.27, so the prediction is = 1.0\n",
            "Previous bias weight was 0.39671415\n",
            "Previous feature weights were [-0.1882643   0.65768854]\n",
            " LEARNING . . .\n",
            "Current bias weight is 0.29671415\n",
            "Current feature weights are [-0.2482643   0.50768854]\n",
            " END OF ITERATION\n",
            "\n",
            "Feature vector is [-0.2 -0.2] and the label 0.0\n",
            "Dot product = 0.24, so the prediction is = 1.0\n",
            "Previous bias weight was 0.29671415\n",
            "Previous feature weights were [-0.2482643   0.50768854]\n",
            " LEARNING . . .\n",
            "Current bias weight is 0.19671415\n",
            "Current feature weights are [-0.2282643   0.52768854]\n",
            " END OF ITERATION\n",
            "\n",
            "Feature vector is [1.6 0.8] and the label 0.0\n",
            "Dot product = 0.25, so the prediction is = 1.0\n",
            "Previous bias weight was 0.19671415\n",
            "Previous feature weights were [-0.2282643   0.52768854]\n",
            " LEARNING . . .\n",
            "Current bias weight is 0.09671415\n",
            "Current feature weights are [-0.3882643   0.44768854]\n",
            " END OF ITERATION\n",
            "\n",
            "Feature vector is [-0.5  0.5] and the label 0.0\n",
            "Dot product = 0.51, so the prediction is = 1.0\n",
            "Previous bias weight was 0.09671415\n",
            "Previous feature weights were [-0.3882643   0.44768854]\n",
            " LEARNING . . .\n",
            "Current bias weight is -0.003285850000000007\n",
            "Current feature weights are [-0.3382643   0.39768854]\n",
            " END OF ITERATION\n",
            "\n"
          ]
        }
      ]
    },
    {
      "cell_type": "code",
      "source": [
        "weights = np.array([ 0.49671415, -0.1382643 ,  0.64768854])\n",
        "epochs = 10\n",
        "\n",
        "for e in range(0, epochs):\n",
        "    for i in range(0, X_train.shape[0]): \n",
        "        #print(f'Feature vector is {X_train[i]} and the label {y_train[i]}')\n",
        "        # make prediction\n",
        "        z = np.dot(X_train[i], weights[1:]) + weights[0] * bias\n",
        "        pred = heaviside(z)\n",
        "        #print(f'Dot product = {z:.2f}, so the prediction is = {pred:.1f}')\n",
        "        # update weights\n",
        "        #print(f'Previous bias weight was {weights[0]}')\n",
        "        #print(f'Previous feature weights were {weights[1:]}\\n LEARNING . . .')\n",
        "        weights[0] += 0.1 * (y_train[i] - pred)\n",
        "        weights[1:] += 0.1 * (y_train[i] - pred) * X_train[i]\n",
        "        #print(f'Current bias weight is {weights[0]}')\n",
        "        #print(f'Current feature weights are {weights[1:]}\\n END OF ITERATION\\n')"
      ],
      "metadata": {
        "id": "gnWJqSisb8LF"
      },
      "execution_count": 117,
      "outputs": []
    },
    {
      "cell_type": "code",
      "source": [
        "print(e)\n",
        "print(weights)"
      ],
      "metadata": {
        "colab": {
          "base_uri": "https://localhost:8080/"
        },
        "id": "ocxDe1Kicb1H",
        "outputId": "f0d50186-92fe-426c-a497-2444a35bbe88"
      },
      "execution_count": 103,
      "outputs": [
        {
          "output_type": "stream",
          "name": "stdout",
          "text": [
            "9\n",
            "[-1.20328585 -0.3482643   0.31768854]\n"
          ]
        }
      ]
    },
    {
      "cell_type": "code",
      "source": [
        "#X_train[:,0]*weights[1] + X_train[:, 1]*weights[2] + weights[0]\n",
        "[heaviside(i) for i in [X_train[:,0]*weights[1] + X_train[:, 1]*weights[2] + weights[0]][0]] == y_train"
      ],
      "metadata": {
        "colab": {
          "base_uri": "https://localhost:8080/"
        },
        "id": "6fbGdT2afskA",
        "outputId": "93217866-cc21-42ca-bfaf-e88ef11fc2c7"
      },
      "execution_count": 105,
      "outputs": [
        {
          "output_type": "execute_result",
          "data": {
            "text/plain": [
              "array([ True,  True,  True,  True,  True,  True,  True,  True,  True,\n",
              "        True,  True,  True,  True,  True,  True,  True,  True,  True,\n",
              "        True,  True,  True,  True,  True,  True,  True,  True,  True,\n",
              "        True,  True,  True,  True,  True,  True,  True,  True,  True,\n",
              "        True,  True,  True,  True,  True,  True,  True,  True,  True,\n",
              "        True,  True,  True,  True,  True,  True,  True,  True,  True,\n",
              "        True,  True,  True,  True,  True,  True,  True,  True,  True,\n",
              "        True,  True,  True,  True,  True,  True,  True,  True,  True,\n",
              "        True,  True,  True,  True,  True,  True,  True,  True,  True,\n",
              "        True,  True,  True,  True,  True,  True,  True,  True,  True,\n",
              "        True,  True,  True,  True,  True,  True,  True,  True,  True,\n",
              "        True])"
            ]
          },
          "metadata": {},
          "execution_count": 105
        }
      ]
    },
    {
      "cell_type": "code",
      "source": [
        "x1 = np.linspace(min(X_train[:, 0]), max(X_train[:, 0]), 10)\n",
        "# 0 = X_train[:,0]*weights[1] + X_train[:, 1]*weights[2] + weights[0] - this is the boundary\n",
        "# X_train[:, 1]*weights[2] = - X_train[:,0]*weights[1] - weights[0]\n",
        "a = - weights[1] / weights[2]\n",
        "c = - weights[0] / weights[2]\n",
        "x2 = a*x1 + c\n",
        "plt.plot(x1, x2)\n",
        "plt.scatter(X_train[:50, 0], X_train[:50, 1], color='red')\n",
        "plt.scatter(X_train[50:, 0], X_train[50:, 1], color='blue')\n",
        "plt.show()"
      ],
      "metadata": {
        "colab": {
          "base_uri": "https://localhost:8080/",
          "height": 430
        },
        "id": "4XrjprL9fYSL",
        "outputId": "bf7a3cfb-cba8-47dd-c9d6-21f46067c35c"
      },
      "execution_count": 120,
      "outputs": [
        {
          "output_type": "display_data",
          "data": {
            "text/plain": [
              "<Figure size 640x480 with 1 Axes>"
            ],
            "image/png": "[encoded data removed]"
          },
          "metadata": {}
        }
      ]
    },
    {
      "cell_type": "markdown",
      "source": [
        "- Does it matter if we update weights after each iteration or sum the updates and add them at the end of an epoch?\n",
        "\n",
        "Probably yes, since we would have obtained convergence earlier (in the middle of an epoch) but in the second approach we still continue to count till iterating over all examples - **this means that first approach yields a model thats fitted just at the edge of last mistake**"
      ],
      "metadata": {
        "id": "8xFyo5bOZPTu"
      }
    },
    {
      "cell_type": "markdown",
      "source": [
        "- Can we initialize the model with zeros?\n",
        "\n",
        "I think yes, because we will start updating the weights as soon as we get to the examples with y=1 and label them as 0. But we don't progress till the half of examples if our training data is sorted by y."
      ],
      "metadata": {
        "id": "FiEBmSClbq-x"
      }
    },
    {
      "cell_type": "code",
      "source": [
        "weights = np.array([0., 0., 0.])\n",
        "epochs = 10\n",
        "weights_update = np.zeros(3)\n",
        "\n",
        "for e in range(0, epochs):\n",
        "    print(f'Epoch NR {e}')\n",
        "    print(f'Old bias weight {weights[0]}')\n",
        "    print(f'Old weights {weights[1:]}')\n",
        "    for i in range(0, X_train.shape[0]): # for each example (0 to 99) # X_train.shape[0]\n",
        "        #print(f'Feature vector is {X_train[i]} and the label {y_train[i]}')\n",
        "        # make prediction\n",
        "        z = np.dot(X_train[i], weights[1:]) + weights[0] * bias\n",
        "        pred = heaviside(z)\n",
        "        # update weights\n",
        "        weights_update[0] += 0.1 * (y_train[i] - pred)\n",
        "        #print(weights_update[0])\n",
        "        weights_update[1:] += 0.1 * (y_train[i] - pred) * X_train[i]\n",
        "        #print(weights_update[1:])\n",
        "\n",
        "    weights[0] += weights_update[0]\n",
        "    weights[1:] += weights_update[1:]\n",
        "    print(f'New bias weight {weights[0]}')\n",
        "    print(f'New weights {weights[1:]}\\n')"
      ],
      "metadata": {
        "colab": {
          "base_uri": "https://localhost:8080/"
        },
        "id": "Oqf6lQMLUsYQ",
        "outputId": "6b6385b3-8ab0-429e-d694-47e9760ece89"
      },
      "execution_count": 100,
      "outputs": [
        {
          "output_type": "stream",
          "name": "stdout",
          "text": [
            "Epoch NR 0\n",
            "Old bias weight 0.0\n",
            "Old weights [0. 0.]\n",
            "New bias weight -4.999999999999998\n",
            "New weights [0.68 0.34]\n",
            "\n",
            "Epoch NR 1\n",
            "Old bias weight -4.999999999999998\n",
            "Old weights [0.68 0.34]\n",
            "New bias weight -4.999999999999997\n",
            "New weights [-19.09  21.41]\n",
            "\n",
            "Epoch NR 2\n",
            "Old bias weight -4.999999999999997\n",
            "Old weights [-19.09  21.41]\n",
            "New bias weight -7.399999999999998\n",
            "New weights [-37.53  41.14]\n",
            "\n",
            "Epoch NR 3\n",
            "Old bias weight -7.399999999999998\n",
            "Old weights [-37.53  41.14]\n",
            "New bias weight -12.299999999999997\n",
            "New weights [-54.56  59.58]\n",
            "\n",
            "Epoch NR 4\n",
            "Old bias weight -12.299999999999997\n",
            "Old weights [-54.56  59.58]\n",
            "New bias weight -19.69999999999999\n",
            "New weights [-70.18  76.73]\n",
            "\n",
            "Epoch NR 5\n",
            "Old bias weight -19.69999999999999\n",
            "Old weights [-70.18  76.73]\n",
            "New bias weight -29.39999999999997\n",
            "New weights [-84.53  92.51]\n",
            "\n",
            "Epoch NR 6\n",
            "Old bias weight -29.39999999999997\n",
            "Old weights [-84.53  92.51]\n",
            "New bias weight -41.29999999999994\n",
            "New weights [-97.66 106.9 ]\n",
            "\n",
            "Epoch NR 7\n",
            "Old bias weight -41.29999999999994\n",
            "Old weights [-97.66 106.9 ]\n",
            "New bias weight -55.299999999999905\n",
            "New weights [-109.64  119.87]\n",
            "\n",
            "Epoch NR 8\n",
            "Old bias weight -55.299999999999905\n",
            "Old weights [-109.64  119.87]\n",
            "New bias weight -71.29999999999987\n",
            "New weights [-120.55  131.39]\n",
            "\n",
            "Epoch NR 9\n",
            "Old bias weight -71.29999999999987\n",
            "Old weights [-120.55  131.39]\n",
            "New bias weight -89.29999999999986\n",
            "New weights [-130.39  141.46]\n",
            "\n"
          ]
        }
      ]
    },
    {
      "cell_type": "markdown",
      "source": [
        "Why does it diverge?"
      ],
      "metadata": {
        "id": "b4p3WK2Jl-92"
      }
    },
    {
      "cell_type": "markdown",
      "source": [
        "## Previous version"
      ],
      "metadata": {
        "id": "3ZZHeU-IR_TJ"
      }
    },
    {
      "cell_type": "code",
      "execution_count": 73,
      "metadata": {
        "id": "zvEUzUT02FqQ",
        "colab": {
          "base_uri": "https://localhost:8080/"
        },
        "outputId": "4faee28a-1ab3-4178-e0fe-37bfdcb47314"
      },
      "outputs": [
        {
          "output_type": "stream",
          "name": "stdout",
          "text": [
            "[-0.20000000000000004, -0.48000000000000004, 0.34]\n",
            "[-0.6, -0.54, 0.29000000000000004]\n",
            "[-0.7999999999999999, -0.5900000000000001, 0.44000000000000006]\n",
            "[-0.9999999999999999, -0.5800000000000001, 0.45000000000000007]\n",
            "[-1.0999999999999999, -0.52, 0.44000000000000006]\n",
            "[-1.2, -0.41000000000000003, 0.5900000000000001]\n",
            "[-1.3, -0.35000000000000003, 0.4000000000000001]\n",
            "[-1.3, -0.35000000000000003, 0.4000000000000001]\n",
            "[-1.3, -0.35000000000000003, 0.4000000000000001]\n",
            "[-1.3, -0.35000000000000003, 0.4000000000000001]\n",
            "[-1.3, -0.35000000000000003, 0.4000000000000001]\n",
            "[-1.3, -0.35000000000000003, 0.4000000000000001]\n",
            "[-1.3, -0.35000000000000003, 0.4000000000000001]\n",
            "[-1.3, -0.35000000000000003, 0.4000000000000001]\n",
            "[-1.3, -0.35000000000000003, 0.4000000000000001]\n",
            "[-1.3, -0.35000000000000003, 0.4000000000000001]\n",
            "[-1.3, -0.35000000000000003, 0.4000000000000001]\n",
            "[-1.3, -0.35000000000000003, 0.4000000000000001]\n",
            "[-1.3, -0.35000000000000003, 0.4000000000000001]\n",
            "[-1.3, -0.35000000000000003, 0.4000000000000001]\n"
          ]
        },
        {
          "output_type": "execute_result",
          "data": {
            "text/plain": [
              "[-1.3, -0.35000000000000003, 0.4000000000000001]"
            ]
          },
          "metadata": {},
          "execution_count": 73
        }
      ],
      "source": [
        "def step_function(z):\n",
        "    if z < 0:\n",
        "      return 0\n",
        "    if z >= 0:\n",
        "      return 1\n",
        "\n",
        "def perceptron(data, labels, lr, e):\n",
        "    \"\"\"\n",
        "    data: numpy array of shape (m,n)\n",
        "    labels: numpy array of shape (m,1)\n",
        "    lr: learning rate\n",
        "    e: number of epochs\n",
        "    \"\"\"\n",
        "    bias = np.ones((data.shape[0], 1)) #len=100\n",
        "    data = np.append(bias, data, axis=1)\n",
        "    weights = [0, 0, 0]\n",
        "\n",
        "    for epoch in range(0, e):\n",
        "      for i in range(0, data.shape[0]): # for each example\n",
        "        z = np.dot(data[i], weights) \n",
        "        y_pred = step_function(z)\n",
        "        for j, w in enumerate(weights):\n",
        "          weights[j] = w + lr*(labels[i] - y_pred) * data[i][j]\n",
        "      print(weights)\n",
        "    return weights\n",
        "\n",
        "w = perceptron(X_train, y_train, 0.1, 20)\n",
        "w"
      ]
    },
    {
      "cell_type": "code",
      "source": [
        "def plot_decision_boundary(X,w, a=1):\n",
        "    x1 = np.linspace(min(X[:,0]),max(X[:,0]),10)\n",
        "    m = -w[1]/w[2]\n",
        "    c = -w[0]/w[2]\n",
        "    x2 = m*x1+c\n",
        "    plt.plot(x1,x2, c='k', alpha=a)\n",
        "    plt.ylim(min(X[:,1]),max(X[:,1]))\n",
        "    \n",
        "plot_data(X_train,y_train)\n",
        "plot_decision_boundary(X_train, w)"
      ],
      "metadata": {
        "colab": {
          "base_uri": "https://localhost:8080/",
          "height": 265
        },
        "id": "wijeARM3IPhm",
        "outputId": "970da1f6-c2c7-494c-aa0f-5ae1809cc683"
      },
      "execution_count": null,
      "outputs": [
        {
          "output_type": "display_data",
          "data": {
            "text/plain": [
              "<Figure size 432x288 with 1 Axes>"
            ],
            "image/png": "[encoded data removed]"
          },
          "metadata": {
            "needs_background": "light"
          }
        }
      ]
    },
    {
      "cell_type": "markdown",
      "source": [
        "07.03\n",
        "\n",
        "perceptron limitations:\n",
        "- no probability\n",
        "- XOR - smaller than 0 and more than 3\n",
        "\n",
        "multilayer\n",
        "- extra hidden layer, fully connected with input and output\n",
        "\n",
        "backpropagation\n",
        "- step function doesnt allow calculating the gradient - we can use activation function for that purpose (sigmoid)\n",
        "1. make prediction\n",
        "2. apply activation function (sigmoid)\n",
        "3. outputs as inputs to the next layer\n",
        "4. count error and update weights (for every layer)\n",
        "\n",
        "forward pass, intermediate results for each neuron, count error, chain rule\n",
        "\n",
        "CAUTION: you cant initialize weights with the same values (so that they cant behave as a one neuron), random may be not good enough either\n",
        "\n",
        "many activation functions (sigmoid, RELU, tanh)\n",
        "\n",
        "slide 30 - how many parameters needs to be optimized\n",
        "\n",
        "validation dataset for overfitting (validating against train and validation data, to see the breaking point)\n"
      ],
      "metadata": {
        "id": "ObfdIb_BUhna"
      }
    }
  ],
  "metadata": {
    "kernelspec": {
      "display_name": "hml3",
      "language": "python",
      "name": "python3"
    },
    "language_info": {
      "codemirror_mode": {
        "name": "ipython",
        "version": 3
      },
      "file_extension": ".py",
      "mimetype": "text/x-python",
      "name": "python",
      "nbconvert_exporter": "python",
      "pygments_lexer": "ipython3",
      "version": "3.9.13"
    },
    "orig_nbformat": 4,
    "vscode": {
      "interpreter": {
        "hash": "ac2598a53cd48ed973662853cbed9ce85601c819c2e7e5e54efa32ca245c1cee"
      }
    },
    "colab": {
      "provenance": [],
      "include_colab_link": true
    }
  },
  "nbformat": 4,
  "nbformat_minor": 0
}