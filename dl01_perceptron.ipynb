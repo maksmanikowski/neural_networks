{
  "cells": [
    {
      "cell_type": "markdown",
      "metadata": {
        "id": "view-in-github",
        "colab_type": "text"
      },
      "source": [
        "<a href=\"https://colab.research.google.com/github/maksmanikowski/neural_networks/blob/main/dl01_perceptron.ipynb\" target=\"_parent\"><img src=\"https://colab.research.google.com/assets/colab-badge.svg\" alt=\"Open In Colab\"/></a>"
      ]
    },
    {
      "cell_type": "markdown",
      "metadata": {
        "id": "Nu2uN8Uk2FqF"
      },
      "source": [
        "# Deep Learning\n",
        "<table align=\"left\">\n",
        "  <td>\n",
        "    <a href=\"https://colab.research.google.com/github/marcinsawinski/UEP_KIE_DL_CODE/blob/main/dl01_perceptron.ipynb\" target=\"_parent\"><img src=\"https://colab.research.google.com/assets/colab-badge.svg\" alt=\"Open In Colab\"/></a>\n",
        "  </td>\n",
        "</table>"
      ]
    },
    {
      "cell_type": "markdown",
      "metadata": {
        "id": "XHPhXGdT2FqK"
      },
      "source": [
        "# Excercise 1: Perceptron\n",
        "- define _step function_ that takes value (z) and returns \n",
        "Heaviside step function\\\n",
        "$\n",
        "Heaviside(z) =\n",
        "\\begin{cases}\n",
        "0\\ \\text{if}\\ z<0\\\\\n",
        "1\\ \\text{if}\\ z \\ge 0\n",
        "\\end{cases}\n",
        "$\n",
        "- define _Perceptron_ function that takes:\n",
        "    - data: numpy array of shape (m,n)\n",
        "    - labels: numpy array of shape (m,1)\n",
        "    - lr: learning rate ($\\eta$)\n",
        "    - e: number of epochs\n",
        "- add bias term (column with values equal to 1)\n",
        "- initialize weights with zeros\n",
        "- loop through epochs\n",
        "    - loop through instances\n",
        "        - compute output($\\hat{y}$) as $Heaviside(z)$, where $z = x^T w$\\\n",
        "        NOTE: rows of X contain transposed data so use np.dot(x[i], w)\n",
        "        - calculate new weights $w_{i,j}^{(next\\,step)} = w_{i,j}+\\eta(y_j-\\hat y_j)x_i$\n",
        "- return trained weights\n",
        "- draw decision boundary\n",
        "        \n",
        "\n"
      ]
    },
    {
      "cell_type": "code",
      "execution_count": null,
      "metadata": {
        "id": "76cV5U3X2FqM",
        "colab": {
          "base_uri": "https://localhost:8080/"
        },
        "outputId": "654101e5-52d0-421c-df91-cdfdaf24971c"
      },
      "outputs": [
        {
          "output_type": "execute_result",
          "data": {
            "text/plain": [
              "array([[ 0.5, -0.1],\n",
              "       [ 0.6,  1.5],\n",
              "       [-0.2, -0.2],\n",
              "       [ 1.6,  0.8],\n",
              "       [-0.5,  0.5]])"
            ]
          },
          "metadata": {},
          "execution_count": 1
        }
      ],
      "source": [
        "import matplotlib.pyplot as plt\n",
        "import numpy as np\n",
        "class_size = 50\n",
        "np.random.seed(42)\n",
        "# Generate data points\n",
        "X1 = np.random.normal(0,1,(class_size,2)).round(1)\n",
        "X2 = np.random.normal(0,1,(class_size,2)).round(1)+np.random.randint(-5,5, (1,2))\n",
        "X_train = np.concatenate((X1, X2)) # size (100, 2)\n",
        "X_train[:5]"
      ]
    },
    {
      "cell_type": "code",
      "source": [
        "X_train.shape"
      ],
      "metadata": {
        "colab": {
          "base_uri": "https://localhost:8080/"
        },
        "id": "wM9frdGjKd5I",
        "outputId": "4b0571f6-9c48-44a1-88c3-d17dc1d9855d"
      },
      "execution_count": null,
      "outputs": [
        {
          "output_type": "execute_result",
          "data": {
            "text/plain": [
              "(100, 2)"
            ]
          },
          "metadata": {},
          "execution_count": 2
        }
      ]
    },
    {
      "cell_type": "code",
      "source": [
        "# Generate labels\n",
        "y_train = np.concatenate((np.zeros(class_size),np.ones(class_size))) # len=100\n",
        "y_train"
      ],
      "metadata": {
        "colab": {
          "base_uri": "https://localhost:8080/"
        },
        "id": "ID8QiOMJJRXq",
        "outputId": "540ec785-2384-427f-f0f1-c7f3cee13502"
      },
      "execution_count": null,
      "outputs": [
        {
          "output_type": "execute_result",
          "data": {
            "text/plain": [
              "array([0., 0., 0., 0., 0., 0., 0., 0., 0., 0., 0., 0., 0., 0., 0., 0., 0.,\n",
              "       0., 0., 0., 0., 0., 0., 0., 0., 0., 0., 0., 0., 0., 0., 0., 0., 0.,\n",
              "       0., 0., 0., 0., 0., 0., 0., 0., 0., 0., 0., 0., 0., 0., 0., 0., 1.,\n",
              "       1., 1., 1., 1., 1., 1., 1., 1., 1., 1., 1., 1., 1., 1., 1., 1., 1.,\n",
              "       1., 1., 1., 1., 1., 1., 1., 1., 1., 1., 1., 1., 1., 1., 1., 1., 1.,\n",
              "       1., 1., 1., 1., 1., 1., 1., 1., 1., 1., 1., 1., 1., 1., 1.])"
            ]
          },
          "metadata": {},
          "execution_count": 3
        }
      ]
    },
    {
      "cell_type": "code",
      "source": [
        "#plot data points\n",
        "def plot_data(X,y):\n",
        "    # plt.scatter(X[:,0],X[:,1],c=y, alpha=0.6)\n",
        "    plt.plot(X[:,0][y==0],X[:,1][y==0], 'r.',alpha=0.5)\n",
        "    plt.plot(X[:,0][y==1],X[:,1][y==1], 'b.',alpha=0.5)\n",
        "\n",
        "plot_data(X_train,y_train)"
      ],
      "metadata": {
        "colab": {
          "base_uri": "https://localhost:8080/",
          "height": 265
        },
        "id": "cLZHEYZmKKCx",
        "outputId": "e7549838-76cf-49e8-f365-27b480dc4421"
      },
      "execution_count": null,
      "outputs": [
        {
          "output_type": "display_data",
          "data": {
            "text/plain": [
              "<Figure size 432x288 with 1 Axes>"
            ],
            "image/png": "[encoded data removed]"
          },
          "metadata": {
            "needs_background": "light"
          }
        }
      ]
    },
    {
      "cell_type": "code",
      "source": [
        "# plot (dummy) decision boundary\n",
        "def plot_decision_boundary(X,w, a=1):\n",
        "    x1 = np.linspace(min(X[:,0]),max(X[:,0]),10)\n",
        "    m = -w[1]/w[2]\n",
        "    c = -w[0]/w[2]\n",
        "    x2 = m*x1+c\n",
        "    plt.plot(x1,x2, c='k', alpha=a)\n",
        "    plt.ylim(min(X[:,1]),max(X[:,1]))\n",
        "\n",
        "# Dummy weights\n",
        "w_dummy = [1,2,3]\n",
        "\n",
        "plot_data(X_train,y_train)\n",
        "plot_decision_boundary(X_train, w_dummy)"
      ],
      "metadata": {
        "colab": {
          "base_uri": "https://localhost:8080/",
          "height": 265
        },
        "id": "T-UC6ia6JIQD",
        "outputId": "f3c253af-acde-46f7-a38c-4b6afc17ec3c"
      },
      "execution_count": null,
      "outputs": [
        {
          "output_type": "display_data",
          "data": {
            "text/plain": [
              "<Figure size 432x288 with 1 Axes>"
            ],
            "image/png": "[encoded data removed]"
          },
          "metadata": {
            "needs_background": "light"
          }
        }
      ]
    },
    {
      "cell_type": "code",
      "source": [
        "#np.random.seed(42)\n",
        "#weights = np.random.normal(0, 1, 3)\n",
        "weights = np.array([ 0.49671415, -0.1382643 ,  0.64768854])\n",
        "weights"
      ],
      "metadata": {
        "colab": {
          "base_uri": "https://localhost:8080/"
        },
        "id": "vh1BZtgYIyC4",
        "outputId": "a9cf3d8d-eb80-4d24-e368-7687f8ffa3b9"
      },
      "execution_count": null,
      "outputs": [
        {
          "output_type": "execute_result",
          "data": {
            "text/plain": [
              "array([ 0.49671415, -0.1382643 ,  0.64768854])"
            ]
          },
          "metadata": {},
          "execution_count": 6
        }
      ]
    },
    {
      "cell_type": "code",
      "source": [
        "bias = 1"
      ],
      "metadata": {
        "id": "RGyiHcIHMiUG"
      },
      "execution_count": null,
      "outputs": []
    },
    {
      "cell_type": "code",
      "source": [
        "weights[0] * bias + weights[1] * X_train[0, 0] + weights[2] * X_train[0, 1]"
      ],
      "metadata": {
        "colab": {
          "base_uri": "https://localhost:8080/"
        },
        "id": "GAylUhdiMAg4",
        "outputId": "e76edd56-70dc-49a1-a4be-a1f90bcb6a3c"
      },
      "execution_count": null,
      "outputs": [
        {
          "output_type": "execute_result",
          "data": {
            "text/plain": [
              "0.36281314600000003"
            ]
          },
          "metadata": {},
          "execution_count": 8
        }
      ]
    },
    {
      "cell_type": "code",
      "source": [
        "np.dot(X_train[0], weights[1:]) + 1 * weights[0]"
      ],
      "metadata": {
        "colab": {
          "base_uri": "https://localhost:8080/"
        },
        "id": "pTXY-lSIL6AY",
        "outputId": "04e4f7ae-3369-4f41-aa4e-1b8b33c6ec95"
      },
      "execution_count": null,
      "outputs": [
        {
          "output_type": "execute_result",
          "data": {
            "text/plain": [
              "0.36281314600000003"
            ]
          },
          "metadata": {},
          "execution_count": 9
        }
      ]
    },
    {
      "cell_type": "code",
      "source": [
        "def heaviside(z):\n",
        "    if z >= 0:\n",
        "        return 1\n",
        "    else:\n",
        "        return 0"
      ],
      "metadata": {
        "id": "PhAdFTX_NXP4"
      },
      "execution_count": null,
      "outputs": []
    },
    {
      "cell_type": "code",
      "source": [
        "weights = np.array([ 0.49671415, -0.1382643 ,  0.64768854])\n",
        "\n",
        "for i in range(0, 5): # for each example (0 to 99) # X_train.shape[0]\n",
        "    print(f'Feature vector is {X_train[i]} and the label {y_train[i]}')\n",
        "    # make prediction\n",
        "    z = np.dot(X_train[i], weights[1:]) + weights[0] * bias\n",
        "    pred = heaviside(z)\n",
        "    print(f'Dot product = {z:.2f}, so the prediction is = {pred:.1f}')\n",
        "    # update weights\n",
        "    print(f'Previous bias weight was {weights[0]}')\n",
        "    weights[0] += 0.1 * (y_train[i] - pred)\n",
        "    print(f'Current bias weight is {weights[0]}')\n",
        "    print(weights[1:])\n",
        "    weights[1:] += 0.1 * (y_train[i] - pred) * X_train[i]\n",
        "    print(weights[1:])"
      ],
      "metadata": {
        "colab": {
          "base_uri": "https://localhost:8080/"
        },
        "id": "xTAdhHpuLcKz",
        "outputId": "e608b074-542b-486b-9bf7-67af239737e1"
      },
      "execution_count": null,
      "outputs": [
        {
          "output_type": "stream",
          "name": "stdout",
          "text": [
            "Feature vector is [ 0.5 -0.1] and the label 0.0\n",
            "Dot product = 0.36, so the prediction is = 1.0\n",
            "Previous bias weight was 0.49671415\n",
            "Current bias weight is 0.39671415\n",
            "[-0.1382643   0.64768854]\n",
            "[-0.1882643   0.65768854]\n",
            "Feature vector is [0.6 1.5] and the label 0.0\n",
            "Dot product = 1.27, so the prediction is = 1.0\n",
            "Previous bias weight was 0.39671415\n",
            "Current bias weight is 0.29671415\n",
            "[-0.1882643   0.65768854]\n",
            "[-0.2482643   0.50768854]\n",
            "Feature vector is [-0.2 -0.2] and the label 0.0\n",
            "Dot product = 0.24, so the prediction is = 1.0\n",
            "Previous bias weight was 0.29671415\n",
            "Current bias weight is 0.19671415\n",
            "[-0.2482643   0.50768854]\n",
            "[-0.2282643   0.52768854]\n",
            "Feature vector is [1.6 0.8] and the label 0.0\n",
            "Dot product = 0.25, so the prediction is = 1.0\n",
            "Previous bias weight was 0.19671415\n",
            "Current bias weight is 0.09671415\n",
            "[-0.2282643   0.52768854]\n",
            "[-0.3882643   0.44768854]\n",
            "Feature vector is [-0.5  0.5] and the label 0.0\n",
            "Dot product = 0.51, so the prediction is = 1.0\n",
            "Previous bias weight was 0.09671415\n",
            "Current bias weight is -0.003285850000000007\n",
            "[-0.3882643   0.44768854]\n",
            "[-0.3382643   0.39768854]\n"
          ]
        }
      ]
    },
    {
      "cell_type": "code",
      "source": [
        "y_pred = np.dot(X_train[:5], weights[1:]) + bias * weights[0]\n",
        "for i in range(0, 5):\n",
        "    print(y_train[i], y_pred[i])"
      ],
      "metadata": {
        "colab": {
          "base_uri": "https://localhost:8080/"
        },
        "id": "t7-F0gmkZuo_",
        "outputId": "b703b2d0-a8aa-434e-ad56-6ca40baf5650"
      },
      "execution_count": null,
      "outputs": [
        {
          "output_type": "stream",
          "name": "stdout",
          "text": [
            "0.0 -0.212186854\n",
            "0.0 0.39028838\n",
            "0.0 -0.015170697999999998\n",
            "0.0 -0.22635789800000006\n",
            "0.0 0.36469056999999994\n"
          ]
        }
      ]
    },
    {
      "cell_type": "markdown",
      "source": [
        "Let's try to implement the activation function now"
      ],
      "metadata": {
        "id": "5cauxohkSFM2"
      }
    },
    {
      "cell_type": "code",
      "source": [
        "weights = np.array([ 0.49671415, -0.1382643 ,  0.64768854])\n",
        "\n",
        "print(weights[0])\n",
        "print(weights[1:])\n",
        "weights_update = np.zeros(3)\n",
        "\n",
        "for i in range(0, 5): # for each example (0 to 99) # X_train.shape[0]\n",
        "    print(f'Feature vector is {X_train[i]} and the label {y_train[i]}')\n",
        "    # make prediction\n",
        "    z = np.dot(X_train[i], weights[1:]) + weights[0] * bias\n",
        "    pred = heaviside(z)\n",
        "    # update weights\n",
        "    weights_update[0] += 0.1 * (y_train[i] - pred)\n",
        "    print(weights_update[0])\n",
        "    weights_update[1:] += 0.1 * (y_train[i] - pred) * X_train[i]\n",
        "    print(weights_update[1:])\n",
        "\n",
        "weights[0] += weights_update[0]\n",
        "weights[1:] += weights_update[1:]\n",
        "print(f'New bias weight {weights[0]}')\n",
        "print(f'New weights {weights[1:]}')"
      ],
      "metadata": {
        "colab": {
          "base_uri": "https://localhost:8080/"
        },
        "id": "Oqf6lQMLUsYQ",
        "outputId": "4f1a9d3b-ab5d-49c2-c5b8-7173724286ee"
      },
      "execution_count": null,
      "outputs": [
        {
          "output_type": "stream",
          "name": "stdout",
          "text": [
            "0.49671415\n",
            "[-0.1382643   0.64768854]\n",
            "Feature vector is [ 0.5 -0.1] and the label 0.0\n",
            "-0.1\n",
            "[-0.05  0.01]\n",
            "Feature vector is [0.6 1.5] and the label 0.0\n",
            "-0.2\n",
            "[-0.11 -0.14]\n",
            "Feature vector is [-0.2 -0.2] and the label 0.0\n",
            "-0.30000000000000004\n",
            "[-0.09 -0.12]\n",
            "Feature vector is [1.6 0.8] and the label 0.0\n",
            "-0.4\n",
            "[-0.25 -0.2 ]\n",
            "Feature vector is [-0.5  0.5] and the label 0.0\n",
            "-0.5\n",
            "[-0.2  -0.25]\n",
            "New bias weight -0.003285849999999979\n",
            "New weights [-0.3382643   0.39768854]\n"
          ]
        }
      ]
    },
    {
      "cell_type": "code",
      "source": [
        "y_pred = np.dot(X_train[:5], weights[1:]) + bias * weights[0]\n",
        "for i in range(0, 5):\n",
        "    print(y_train[i], y_pred[i])"
      ],
      "metadata": {
        "colab": {
          "base_uri": "https://localhost:8080/"
        },
        "id": "xRSv8W8gZr2d",
        "outputId": "3e1b52a5-03e4-4597-a8d9-86d97026ccf5"
      },
      "execution_count": null,
      "outputs": [
        {
          "output_type": "stream",
          "name": "stdout",
          "text": [
            "0.0 -0.21218685399999998\n",
            "0.0 0.39028838000000005\n",
            "0.0 -0.01517069799999997\n",
            "0.0 -0.22635789800000003\n",
            "0.0 0.36469057\n"
          ]
        }
      ]
    },
    {
      "cell_type": "markdown",
      "source": [
        "Same results obtained - ~~doesn't matter here if we update weights after one example or after an epoch~~ - only because predictions didn't change after weights updating!"
      ],
      "metadata": {
        "id": "n55Ukff7XCQk"
      }
    },
    {
      "cell_type": "code",
      "source": [
        "weights = np.array([ 0.49671415, -0.1382643 ,  0.64768854])\n",
        "\n",
        "for i in range(0, 5): # for each example (0 to 99) # X_train.shape[0]\n",
        "    print(f'Feature vector is {X_train[i]} and the label {y_train[i]}')\n",
        "    # make prediction\n",
        "    pred = np.dot(X_train[i], weights[1:]) + weights[0] * bias\n",
        "    # update weights\n",
        "    print(weights[0])\n",
        "    weights[0] += 0.1 * (y_train[i] - pred)\n",
        "    print(weights[0])\n",
        "    print(weights[1:])\n",
        "    weights[1:] += 0.1 * (y_train[i] - pred) * X_train[i]\n",
        "    print(weights[1:])"
      ],
      "metadata": {
        "colab": {
          "base_uri": "https://localhost:8080/"
        },
        "id": "Daywi_Q0WftI",
        "outputId": "2432ff35-9ac2-4e2f-d6cd-c7268fd4fb5c"
      },
      "execution_count": null,
      "outputs": [
        {
          "output_type": "stream",
          "name": "stdout",
          "text": [
            "Feature vector is [ 0.5 -0.1] and the label 0.0\n",
            "0.49671415\n",
            "0.4604328354\n",
            "[-0.1382643   0.64768854]\n",
            "[-0.15640496  0.65131667]\n",
            "Feature vector is [0.6 1.5] and the label 0.0\n",
            "0.4604328354\n",
            "0.32607634857900003\n",
            "[-0.15640496  0.65131667]\n",
            "[-0.23701885  0.44978194]\n",
            "Feature vector is [-0.2 -0.2] and the label 0.0\n",
            "0.32607634857900003\n",
            "0.29772397555781804\n",
            "[-0.23701885  0.44978194]\n",
            "[-0.23134837  0.45545242]\n",
            "Feature vector is [1.6 0.8] and the label 0.0\n",
            "0.29772397555781804\n",
            "0.2685311247015555\n",
            "[-0.23134837  0.45545242]\n",
            "[-0.27805694  0.43209814]\n",
            "Feature vector is [-0.5  0.5] and the label 0.0\n",
            "0.2685311247015555\n",
            "0.20617025866609445\n",
            "[-0.27805694  0.43209814]\n",
            "[-0.2468765  0.4009177]\n"
          ]
        }
      ]
    },
    {
      "cell_type": "code",
      "source": [
        "y_pred = np.dot(X_train[:5], weights[1:]) + bias * weights[0]\n",
        "for i in range(0, 5):\n",
        "    print(y_train[i], y_pred[i])"
      ],
      "metadata": {
        "colab": {
          "base_uri": "https://localhost:8080/"
        },
        "id": "MJkfUbC2Y4no",
        "outputId": "6961d02c-b8d7-4295-805b-4ad5b3a81a44"
      },
      "execution_count": null,
      "outputs": [
        {
          "output_type": "stream",
          "name": "stdout",
          "text": [
            "0.0 0.0426402368827683\n",
            "0.0 0.6594209099766963\n",
            "0.0 0.17536201886822592\n",
            "0.0 0.13190201534504603\n",
            "0.0 0.5300673613014188\n"
          ]
        }
      ]
    },
    {
      "cell_type": "code",
      "source": [
        "weights = np.array([ 0.49671415, -0.1382643 ,  0.64768854])\n",
        "\n",
        "print(weights[0])\n",
        "print(weights[1:])\n",
        "weights_update = np.zeros(3)\n",
        "\n",
        "for i in range(0, 5): # for each example (0 to 99) # X_train.shape[0]\n",
        "    print(f'Feature vector is {X_train[i]} and the label {y_train[i]}')\n",
        "    # make prediction\n",
        "    pred = np.dot(X_train[i], weights[1:]) + weights[0] * bias\n",
        "    # update weights\n",
        "    weights_update[0] += 0.1 * (y_train[i] - pred)\n",
        "    print(weights_update[0])\n",
        "    weights_update[1:] += 0.1 * (y_train[i] - pred) * X_train[i]\n",
        "    print(weights_update[1:])\n",
        "\n",
        "weights[0] += weights_update[0]\n",
        "weights[1:] += weights_update[1:]\n",
        "print(f'New bias weight {weights[0]}')\n",
        "print(f'New weights {weights[1:]}')"
      ],
      "metadata": {
        "colab": {
          "base_uri": "https://localhost:8080/"
        },
        "id": "L7snlseBSEMQ",
        "outputId": "b1b0dd4d-0b22-4d99-f2e5-5e15690e00e9"
      },
      "execution_count": null,
      "outputs": [
        {
          "output_type": "stream",
          "name": "stdout",
          "text": [
            "0.49671415\n",
            "[-0.1382643   0.64768854]\n",
            "Feature vector is [ 0.5 -0.1] and the label 0.0\n",
            "-0.0362813146\n",
            "[-0.01814066  0.00362813]\n",
            "Feature vector is [0.6 1.5] and the label 0.0\n",
            "-0.17481015260000002\n",
            "[-0.10125796 -0.20416513]\n",
            "Feature vector is [-0.2 -0.2] and the label 0.0\n",
            "-0.21429308280000003\n",
            "[-0.09336137 -0.19626854]\n",
            "Feature vector is [1.6 0.8] and the label 0.0\n",
            "-0.29365729300000004\n",
            "[-0.22034411 -0.25975991]\n",
            "Feature vector is [-0.5  0.5] and the label 0.0\n",
            "-0.38262635000000006\n",
            "[-0.17585958 -0.30424444]\n",
            "New bias weight 0.11408779999999996\n",
            "New weights [-0.31412388  0.3434441 ]\n"
          ]
        }
      ]
    },
    {
      "cell_type": "code",
      "source": [
        "y_pred = np.dot(X_train[:5], weights[1:]) + bias * weights[0]\n",
        "for i in range(0, 5):\n",
        "    print(y_train[i], y_pred[i])"
      ],
      "metadata": {
        "colab": {
          "base_uri": "https://localhost:8080/"
        },
        "id": "xgA8WftLZS0u",
        "outputId": "963d9133-f128-49e4-b563-9a6e5ba3ef3f"
      },
      "execution_count": null,
      "outputs": [
        {
          "output_type": "stream",
          "name": "stdout",
          "text": [
            "0.0 -0.07731855132400003\n",
            "0.0 0.4407796266319999\n",
            "0.0 0.10822375560799997\n",
            "0.0 -0.1137551279360001\n",
            "0.0 0.44287179285999995\n"
          ]
        }
      ]
    },
    {
      "cell_type": "markdown",
      "source": [
        "Second approach is better because it takes into consideration total cost of misclassifying datapoints and doesn't care if the optimum doesn't provide good prediction for only one outlier. For updating after each example the examples with big single cost would cause weight to change drastically just in favor of this one observation and it would be hard for algorithm to converge - TRY!"
      ],
      "metadata": {
        "id": "ULGppwMTaDVX"
      }
    },
    {
      "cell_type": "markdown",
      "source": [
        "## Previous version"
      ],
      "metadata": {
        "id": "3ZZHeU-IR_TJ"
      }
    },
    {
      "cell_type": "code",
      "execution_count": null,
      "metadata": {
        "id": "zvEUzUT02FqQ",
        "colab": {
          "base_uri": "https://localhost:8080/"
        },
        "outputId": "80fc7e05-ae82-4ca6-8530-b5ce95b49500"
      },
      "outputs": [
        {
          "output_type": "stream",
          "name": "stdout",
          "text": [
            "[-0.20000000000000004, -0.48000000000000004, 0.34]\n",
            "[-0.6, -0.54, 0.29000000000000004]\n",
            "[-0.7999999999999999, -0.5900000000000001, 0.44000000000000006]\n",
            "[-0.9999999999999999, -0.5800000000000001, 0.45000000000000007]\n",
            "[-1.0999999999999999, -0.52, 0.44000000000000006]\n",
            "[-1.2, -0.41000000000000003, 0.5900000000000001]\n",
            "[-1.3, -0.35000000000000003, 0.4000000000000001]\n",
            "[-1.3, -0.35000000000000003, 0.4000000000000001]\n",
            "[-1.3, -0.35000000000000003, 0.4000000000000001]\n",
            "[-1.3, -0.35000000000000003, 0.4000000000000001]\n",
            "[-1.3, -0.35000000000000003, 0.4000000000000001]\n",
            "[-1.3, -0.35000000000000003, 0.4000000000000001]\n",
            "[-1.3, -0.35000000000000003, 0.4000000000000001]\n",
            "[-1.3, -0.35000000000000003, 0.4000000000000001]\n",
            "[-1.3, -0.35000000000000003, 0.4000000000000001]\n",
            "[-1.3, -0.35000000000000003, 0.4000000000000001]\n",
            "[-1.3, -0.35000000000000003, 0.4000000000000001]\n",
            "[-1.3, -0.35000000000000003, 0.4000000000000001]\n",
            "[-1.3, -0.35000000000000003, 0.4000000000000001]\n",
            "[-1.3, -0.35000000000000003, 0.4000000000000001]\n"
          ]
        },
        {
          "output_type": "execute_result",
          "data": {
            "text/plain": [
              "[-1.3, -0.35000000000000003, 0.4000000000000001]"
            ]
          },
          "metadata": {},
          "execution_count": 19
        }
      ],
      "source": [
        "def step_function(z):\n",
        "    if z < 0:\n",
        "      return 0\n",
        "    if z >= 0:\n",
        "      return 1\n",
        "\n",
        "def perceptron(data, labels, lr, e):\n",
        "    \"\"\"\n",
        "    data: numpy array of shape (m,n)\n",
        "    labels: numpy array of shape (m,1)\n",
        "    lr: learning rate\n",
        "    e: number of epochs\n",
        "    \"\"\"\n",
        "    bias = np.ones((data.shape[0], 1)) #len=100\n",
        "    data = np.append(bias, data, axis=1)\n",
        "    weights = [0, 0, 0]\n",
        "\n",
        "    for epoch in range(0, e):\n",
        "      for i in range(0, data.shape[0]): # for each example\n",
        "        z = np.dot(data[i], weights) \n",
        "        y_pred = step_function(z)\n",
        "        for j, w in enumerate(weights):\n",
        "          weights[j] = w + lr*(labels[i] - y_pred) * data[i][j]\n",
        "      print(weights)\n",
        "    return weights\n",
        "\n",
        "w = perceptron(X_train, y_train, 0.1, 20)\n",
        "w"
      ]
    },
    {
      "cell_type": "code",
      "source": [
        "def plot_decision_boundary(X,w, a=1):\n",
        "    x1 = np.linspace(min(X[:,0]),max(X[:,0]),10)\n",
        "    m = -w[1]/w[2]\n",
        "    c = -w[0]/w[2]\n",
        "    x2 = m*x1+c\n",
        "    plt.plot(x1,x2, c='k', alpha=a)\n",
        "    plt.ylim(min(X[:,1]),max(X[:,1]))\n",
        "    \n",
        "plot_data(X_train,y_train)\n",
        "plot_decision_boundary(X_train, w)"
      ],
      "metadata": {
        "colab": {
          "base_uri": "https://localhost:8080/",
          "height": 265
        },
        "id": "wijeARM3IPhm",
        "outputId": "970da1f6-c2c7-494c-aa0f-5ae1809cc683"
      },
      "execution_count": null,
      "outputs": [
        {
          "output_type": "display_data",
          "data": {
            "text/plain": [
              "<Figure size 432x288 with 1 Axes>"
            ],
            "image/png": "[encoded data removed]"
          },
          "metadata": {
            "needs_background": "light"
          }
        }
      ]
    },
    {
      "cell_type": "markdown",
      "source": [
        "07.03\n",
        "\n",
        "perceptron limitations:\n",
        "- no probability\n",
        "- XOR - smaller than 0 and more than 3\n",
        "\n",
        "multilayer\n",
        "- extra hidden layer, fully connected with input and output\n",
        "\n",
        "backpropagation\n",
        "- step function doesnt allow calculating the gradient - we can use activation function for that purpose (sigmoid)\n",
        "1. make prediction\n",
        "2. apply activation function (sigmoid)\n",
        "3. outputs as inputs to the next layer\n",
        "4. count error and update weights (for every layer)\n",
        "\n",
        "forward pass, intermediate results for each neuron, count error, chain rule\n",
        "\n",
        "CAUTION: you cant initialize weights with the same values (so that they cant behave as a one neuron), random may be not good enough either\n",
        "\n",
        "many activation functions (sigmoid, RELU, tanh)\n",
        "\n",
        "slide 30 - how many parameters needs to be optimized\n",
        "\n",
        "validation dataset for overfitting (validating against train and validation data, to see the breaking point)\n"
      ],
      "metadata": {
        "id": "ObfdIb_BUhna"
      }
    }
  ],
  "metadata": {
    "kernelspec": {
      "display_name": "hml3",
      "language": "python",
      "name": "python3"
    },
    "language_info": {
      "codemirror_mode": {
        "name": "ipython",
        "version": 3
      },
      "file_extension": ".py",
      "mimetype": "text/x-python",
      "name": "python",
      "nbconvert_exporter": "python",
      "pygments_lexer": "ipython3",
      "version": "3.9.13"
    },
    "orig_nbformat": 4,
    "vscode": {
      "interpreter": {
        "hash": "ac2598a53cd48ed973662853cbed9ce85601c819c2e7e5e54efa32ca245c1cee"
      }
    },
    "colab": {
      "provenance": [],
      "include_colab_link": true
    }
  },
  "nbformat": 4,
  "nbformat_minor": 0
}